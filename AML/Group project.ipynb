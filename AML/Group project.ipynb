{
 "cells": [
  {
   "cell_type": "code",
   "execution_count": 223,
   "metadata": {},
   "outputs": [],
   "source": [
    "import pandas as pd\n",
    "import warnings\n",
    "import numpy as np\n",
    "warnings.filterwarnings(\"ignore\")"
   ]
  },
  {
   "cell_type": "code",
   "execution_count": 224,
   "metadata": {},
   "outputs": [],
   "source": [
    "dataO = pd.read_csv(\"/Users/peterdream/Downloads/Master_without_dummy.csv\")"
   ]
  },
  {
   "cell_type": "code",
   "execution_count": 225,
   "metadata": {},
   "outputs": [],
   "source": [
    "dataclean = pd.read_csv(\"/Users/peterdream/Downloads/Master_clean.csv\")"
   ]
  },
  {
   "cell_type": "code",
   "execution_count": 226,
   "metadata": {},
   "outputs": [],
   "source": [
    "dataclean['Ratio'] = dataclean['revenue_relative_2020']/dataclean['budget_relative_2020']\n",
    "dataclean['If_success'] = dataclean['Ratio'].apply(lambda x: 0 if (x <=3) else 1)"
   ]
  },
  {
   "cell_type": "code",
   "execution_count": 227,
   "metadata": {},
   "outputs": [
    {
     "name": "stdout",
     "output_type": "stream",
     "text": [
      "False    3369\n",
      "Name: Unnamed: 0, dtype: int64\n",
      "False    3369\n",
      "Name: title of tmdb_5000_credits, dtype: int64\n",
      "False    3369\n",
      "Name: budget, dtype: int64\n",
      "False    3369\n",
      "Name: original_language, dtype: int64\n",
      "False    3369\n",
      "Name: popularity, dtype: int64\n",
      "False    3369\n",
      "Name: release_date, dtype: int64\n",
      "False    3369\n",
      "Name: revenue, dtype: int64\n",
      "False    3369\n",
      "Name: vote_average, dtype: int64\n",
      "False    3369\n",
      "Name: vote_count, dtype: int64\n",
      "False    3369\n",
      "Name: key, dtype: int64\n",
      "False    3369\n",
      "Name: runtime, dtype: int64\n",
      "False    3369\n",
      "Name: cast_count, dtype: int64\n",
      "False    3369\n",
      "Name: Top3cast_avg_rev, dtype: int64\n",
      "False    3369\n",
      "Name: director_avg_revenue, dtype: int64\n",
      "False    3369\n",
      "Name: director_avg_vote, dtype: int64\n",
      "False    3369\n",
      "Name: Director_Number, dtype: int64\n",
      "False    3369\n",
      "Name: country_count, dtype: int64\n",
      "False    3369\n",
      "Name: company_count, dtype: int64\n",
      "False    3369\n",
      "Name: genre_count, dtype: int64\n",
      "False    3369\n",
      "Name: budget_relative_2020, dtype: int64\n",
      "False    3369\n",
      "Name: trend_average, dtype: int64\n",
      "False    3368\n",
      "True        1\n",
      "Name: awardedcast, dtype: int64\n",
      "False    3368\n",
      "True        1\n",
      "Name: book, dtype: int64\n",
      "False    3368\n",
      "True        1\n",
      "Name: sequal, dtype: int64\n",
      "False    3369\n",
      "Name: isenglish, dtype: int64\n",
      "False    3369\n",
      "Name: Action, dtype: int64\n",
      "False    3369\n",
      "Name: Adventure, dtype: int64\n",
      "False    3369\n",
      "Name: Animation, dtype: int64\n",
      "False    3369\n",
      "Name: Comedy, dtype: int64\n",
      "False    3369\n",
      "Name: Crime, dtype: int64\n",
      "False    3369\n",
      "Name: Documentary, dtype: int64\n",
      "False    3369\n",
      "Name: Drama, dtype: int64\n",
      "False    3369\n",
      "Name: Family, dtype: int64\n",
      "False    3369\n",
      "Name: Fantasy, dtype: int64\n",
      "False    3369\n",
      "Name: Foreign, dtype: int64\n",
      "False    3369\n",
      "Name: History, dtype: int64\n",
      "False    3369\n",
      "Name: Horror, dtype: int64\n",
      "False    3369\n",
      "Name: Music, dtype: int64\n",
      "False    3369\n",
      "Name: Mystery, dtype: int64\n",
      "False    3369\n",
      "Name: Romance, dtype: int64\n",
      "False    3369\n",
      "Name: ScienceFiction, dtype: int64\n",
      "False    3369\n",
      "Name: TVMovie, dtype: int64\n",
      "False    3369\n",
      "Name: Thriller, dtype: int64\n",
      "False    3369\n",
      "Name: War, dtype: int64\n",
      "False    3369\n",
      "Name: Western, dtype: int64\n",
      "False    3369\n",
      "Name: Afghanistan, dtype: int64\n",
      "False    3369\n",
      "Name: Algeria, dtype: int64\n",
      "False    3369\n",
      "Name: Angola, dtype: int64\n",
      "False    3369\n",
      "Name: Argentina, dtype: int64\n",
      "False    3369\n",
      "Name: Aruba, dtype: int64\n",
      "False    3369\n",
      "Name: Australia, dtype: int64\n",
      "False    3369\n",
      "Name: Austria, dtype: int64\n",
      "False    3369\n",
      "Name: Bahamas, dtype: int64\n",
      "False    3369\n",
      "Name: Belgium, dtype: int64\n",
      "False    3369\n",
      "Name: Bhutan, dtype: int64\n",
      "False    3369\n",
      "Name: Bolivia, dtype: int64\n",
      "False    3369\n",
      "Name: Bosnia and Herzegovina, dtype: int64\n",
      "False    3369\n",
      "Name: Brazil, dtype: int64\n",
      "False    3369\n",
      "Name: Bulgaria, dtype: int64\n",
      "False    3369\n",
      "Name: Cambodia, dtype: int64\n",
      "False    3369\n",
      "Name: Cameroon, dtype: int64\n",
      "False    3369\n",
      "Name: Canada, dtype: int64\n",
      "False    3369\n",
      "Name: Chile, dtype: int64\n",
      "False    3369\n",
      "Name: China, dtype: int64\n",
      "False    3369\n",
      "Name: Colombia, dtype: int64\n",
      "False    3369\n",
      "Name: Cyprus, dtype: int64\n",
      "False    3369\n",
      "Name: Czech Republic, dtype: int64\n",
      "False    3369\n",
      "Name: Denmark, dtype: int64\n",
      "False    3369\n",
      "Name: Dominica, dtype: int64\n",
      "False    3369\n",
      "Name: Dominican Republic, dtype: int64\n",
      "False    3369\n",
      "Name: Ecuador, dtype: int64\n",
      "False    3369\n",
      "Name: Egypt, dtype: int64\n",
      "False    3369\n",
      "Name: Fiji, dtype: int64\n",
      "False    3369\n",
      "Name: Finland, dtype: int64\n",
      "False    3369\n",
      "Name: France, dtype: int64\n",
      "False    3369\n",
      "Name: Germany, dtype: int64\n",
      "False    3369\n",
      "Name: Greece, dtype: int64\n",
      "False    3369\n",
      "Name: Guadaloupe, dtype: int64\n",
      "False    3369\n",
      "Name: Guyana, dtype: int64\n",
      "False    3369\n",
      "Name: Hong Kong, dtype: int64\n",
      "False    3369\n",
      "Name: Hungary, dtype: int64\n",
      "False    3369\n",
      "Name: Iceland, dtype: int64\n",
      "False    3369\n",
      "Name: India, dtype: int64\n",
      "False    3369\n",
      "Name: Indonesia, dtype: int64\n",
      "False    3369\n",
      "Name: Iran, dtype: int64\n",
      "False    3369\n",
      "Name: Ireland, dtype: int64\n",
      "False    3369\n",
      "Name: Israel, dtype: int64\n",
      "False    3369\n",
      "Name: Italy, dtype: int64\n",
      "False    3369\n",
      "Name: Jamaica, dtype: int64\n",
      "False    3369\n",
      "Name: Japan, dtype: int64\n",
      "False    3369\n",
      "Name: Jordan, dtype: int64\n",
      "False    3369\n",
      "Name: Kazakhstan, dtype: int64\n",
      "False    3369\n",
      "Name: Kenya, dtype: int64\n",
      "False    3369\n",
      "Name: Kyrgyz Republic, dtype: int64\n",
      "False    3369\n",
      "Name: Lebanon, dtype: int64\n",
      "False    3369\n",
      "Name: Libyan Arab Jamahiriya, dtype: int64\n",
      "False    3369\n",
      "Name: Lithuania, dtype: int64\n",
      "False    3369\n",
      "Name: Luxembourg, dtype: int64\n",
      "False    3369\n",
      "Name: Malaysia, dtype: int64\n",
      "False    3369\n",
      "Name: Malta, dtype: int64\n",
      "False    3369\n",
      "Name: Mexico, dtype: int64\n",
      "False    3369\n",
      "Name: Monaco, dtype: int64\n",
      "False    3369\n",
      "Name: Morocco, dtype: int64\n",
      "False    3369\n",
      "Name: Netherlands, dtype: int64\n",
      "False    3369\n",
      "Name: New Zealand, dtype: int64\n",
      "False    3369\n",
      "Name: Nigeria, dtype: int64\n",
      "False    3369\n",
      "Name: Norway, dtype: int64\n",
      "False    3369\n",
      "Name: Pakistan, dtype: int64\n",
      "False    3369\n",
      "Name: Panama, dtype: int64\n",
      "False    3369\n",
      "Name: Peru, dtype: int64\n",
      "False    3369\n",
      "Name: Philippines, dtype: int64\n",
      "False    3369\n",
      "Name: Poland, dtype: int64\n",
      "False    3369\n",
      "Name: Portugal, dtype: int64\n",
      "False    3369\n",
      "Name: Romania, dtype: int64\n",
      "False    3369\n",
      "Name: Russia, dtype: int64\n",
      "False    3369\n",
      "Name: Serbia, dtype: int64\n",
      "False    3369\n",
      "Name: Serbia and Montenegro, dtype: int64\n",
      "False    3369\n",
      "Name: Singapore, dtype: int64\n",
      "False    3369\n",
      "Name: Slovakia, dtype: int64\n",
      "False    3369\n",
      "Name: Slovenia, dtype: int64\n",
      "False    3369\n",
      "Name: South Africa, dtype: int64\n",
      "False    3369\n",
      "Name: South Korea, dtype: int64\n",
      "False    3369\n",
      "Name: Spain, dtype: int64\n",
      "False    3369\n",
      "Name: Sweden, dtype: int64\n",
      "False    3369\n",
      "Name: Switzerland, dtype: int64\n",
      "False    3369\n",
      "Name: Taiwan, dtype: int64\n",
      "False    3369\n",
      "Name: Thailand, dtype: int64\n",
      "False    3369\n",
      "Name: Tunisia, dtype: int64\n",
      "False    3369\n",
      "Name: Turkey, dtype: int64\n",
      "False    3369\n",
      "Name: Ukraine, dtype: int64\n",
      "False    3369\n",
      "Name: United Arab Emirates, dtype: int64\n",
      "False    3369\n",
      "Name: United Kingdom, dtype: int64\n",
      "False    3369\n",
      "Name: United States of America, dtype: int64\n",
      "False    3369\n",
      "Name: company_Amblin Entertainment, dtype: int64\n",
      "False    3369\n",
      "Name: company_BBC Films, dtype: int64\n",
      "False    3369\n",
      "Name: company_Canal+, dtype: int64\n",
      "False    3369\n",
      "Name: company_Castle Rock Entertainment, dtype: int64\n",
      "False    3369\n",
      "Name: company_Columbia Pictures, dtype: int64\n",
      "False    3369\n",
      "Name: company_Columbia Pictures Corporation, dtype: int64\n",
      "False    3369\n",
      "Name: company_Davis Entertainment, dtype: int64\n",
      "False    3369\n",
      "Name: company_Dimension Films, dtype: int64\n",
      "False    3369\n",
      "Name: company_DreamWorks Animation, dtype: int64\n",
      "False    3369\n",
      "Name: company_DreamWorks SKG, dtype: int64\n",
      "False    3369\n",
      "Name: company_Dune Entertainment, dtype: int64\n",
      "False    3369\n",
      "Name: company_Dune Entertainment III, dtype: int64\n",
      "False    3369\n",
      "Name: company_Epsilon Motion Pictures, dtype: int64\n",
      "False    3369\n",
      "Name: company_Film4, dtype: int64\n",
      "False    3369\n",
      "Name: company_Focus Features, dtype: int64\n",
      "False    3369\n",
      "Name: company_Fox 2000 Pictures, dtype: int64\n",
      "False    3369\n",
      "Name: company_Fox Searchlight Pictures, dtype: int64\n",
      "False    3369\n",
      "Name: company_Happy Madison Productions, dtype: int64\n",
      "False    3369\n",
      "Name: company_Imagine Entertainment, dtype: int64\n",
      "False    3369\n",
      "Name: company_Ingenious Film Partners, dtype: int64\n",
      "False    3369\n",
      "Name: company_Lakeshore Entertainment, dtype: int64\n",
      "False    3369\n",
      "Name: company_Legendary Pictures, dtype: int64\n",
      "False    3369\n",
      "Name: company_Lions Gate Films, dtype: int64\n",
      "False    3369\n",
      "Name: company_Lionsgate, dtype: int64\n",
      "False    3369\n",
      "Name: company_Metro-Goldwyn-Mayer (MGM), dtype: int64\n",
      "False    3369\n",
      "Name: company_Miramax Films, dtype: int64\n",
      "False    3369\n",
      "Name: company_New Line Cinema, dtype: int64\n",
      "False    3369\n",
      "Name: company_New Regency Pictures, dtype: int64\n",
      "False    3369\n",
      "Name: company_Original Film, dtype: int64\n",
      "False    3369\n",
      "Name: company_Paramount Pictures, dtype: int64\n",
      "False    3369\n",
      "Name: company_Regency Enterprises, dtype: int64\n",
      "False    3369\n",
      "Name: company_Relativity Media, dtype: int64\n",
      "False    3369\n",
      "Name: company_Scott Free Productions, dtype: int64\n",
      "False    3369\n",
      "Name: company_Scott Rudin Productions, dtype: int64\n",
      "False    3369\n",
      "Name: company_Screen Gems, dtype: int64\n",
      "False    3369\n",
      "Name: company_Silver Pictures, dtype: int64\n",
      "False    3369\n",
      "Name: company_Spyglass Entertainment, dtype: int64\n",
      "False    3369\n",
      "Name: company_Studio Babelsberg, dtype: int64\n",
      "False    3369\n",
      "Name: company_StudioCanal, dtype: int64\n",
      "False    3369\n",
      "Name: company_Summit Entertainment, dtype: int64\n",
      "False    3369\n",
      "Name: company_TSG Entertainment, dtype: int64\n",
      "False    3369\n",
      "Name: company_The Weinstein Company, dtype: int64\n",
      "False    3369\n",
      "Name: company_Touchstone Pictures, dtype: int64\n",
      "False    3369\n",
      "Name: company_TriStar Pictures, dtype: int64\n",
      "False    3369\n",
      "Name: company_Twentieth Century Fox Film Corporation, dtype: int64\n",
      "False    3369\n",
      "Name: company_UK Film Council, dtype: int64\n",
      "False    3369\n",
      "Name: company_United Artists, dtype: int64\n",
      "False    3369\n",
      "Name: company_Universal Pictures, dtype: int64\n",
      "False    3369\n",
      "Name: company_Village Roadshow Pictures, dtype: int64\n",
      "False    3369\n",
      "Name: company_Walt Disney Pictures, dtype: int64\n",
      "False    3369\n",
      "Name: company_Warner Bros., dtype: int64\n",
      "False    3369\n",
      "Name: company_Working Title Films, dtype: int64\n",
      "False    3369\n",
      "Name: company_others, dtype: int64\n",
      "False    3369\n",
      "Name: release_month_1, dtype: int64\n",
      "False    3369\n",
      "Name: release_month_2, dtype: int64\n",
      "False    3369\n",
      "Name: release_month_3, dtype: int64\n",
      "False    3369\n",
      "Name: release_month_4, dtype: int64\n",
      "False    3369\n",
      "Name: release_month_5, dtype: int64\n",
      "False    3369\n",
      "Name: release_month_6, dtype: int64\n",
      "False    3369\n",
      "Name: release_month_7, dtype: int64\n",
      "False    3369\n",
      "Name: release_month_8, dtype: int64\n",
      "False    3369\n",
      "Name: release_month_9, dtype: int64\n",
      "False    3369\n",
      "Name: release_month_10, dtype: int64\n",
      "False    3369\n",
      "Name: release_month_11, dtype: int64\n",
      "False    3369\n",
      "Name: release_month_12, dtype: int64\n",
      "False    3369\n",
      "Name: revenue_relative_2020, dtype: int64\n",
      "False    3369\n",
      "Name: Ratio, dtype: int64\n",
      "False    3369\n",
      "Name: If_success, dtype: int64\n"
     ]
    }
   ],
   "source": [
    "missing_data = dataclean.isnull()\n",
    "missing_data.head(5)\n",
    "for column in missing_data.columns.values.tolist():\n",
    "    print (missing_data[column].value_counts())\n",
    "    \n",
    "dataclean.dropna(axis=0, how='any', inplace=True)"
   ]
  },
  {
   "cell_type": "code",
   "execution_count": 231,
   "metadata": {},
   "outputs": [],
   "source": [
    "a = [i for i in range(198)]\n",
    "for i in range(10):\n",
    "    a.remove(i)\n",
    "for i in range(133,186):\n",
    "    a.remove(i)\n",
    "a.remove(20)"
   ]
  },
  {
   "cell_type": "code",
   "execution_count": 232,
   "metadata": {},
   "outputs": [],
   "source": [
    "X = dataclean.iloc[:,a]\n",
    "y = dataclean['If_success'].values"
   ]
  },
  {
   "cell_type": "markdown",
   "metadata": {},
   "source": [
    "Since we have 3k+ data so we split the data into \"5:2:3\" test 30% to make sure they are in the same distribution"
   ]
  },
  {
   "cell_type": "code",
   "execution_count": 233,
   "metadata": {},
   "outputs": [],
   "source": [
    "from sklearn.model_selection import train_test_split\n",
    "X_train, X_test, y_train, y_test = train_test_split(\n",
    "    X, y, test_size = 0.3, random_state=40\n",
    ")"
   ]
  },
  {
   "cell_type": "code",
   "execution_count": 234,
   "metadata": {},
   "outputs": [
    {
     "data": {
      "text/html": [
       "<div>\n",
       "<style scoped>\n",
       "    .dataframe tbody tr th:only-of-type {\n",
       "        vertical-align: middle;\n",
       "    }\n",
       "\n",
       "    .dataframe tbody tr th {\n",
       "        vertical-align: top;\n",
       "    }\n",
       "\n",
       "    .dataframe thead th {\n",
       "        text-align: right;\n",
       "    }\n",
       "</style>\n",
       "<table border=\"1\" class=\"dataframe\">\n",
       "  <thead>\n",
       "    <tr style=\"text-align: right;\">\n",
       "      <th></th>\n",
       "      <th>runtime</th>\n",
       "      <th>cast_count</th>\n",
       "      <th>Top3cast_avg_rev</th>\n",
       "      <th>director_avg_revenue</th>\n",
       "      <th>director_avg_vote</th>\n",
       "      <th>Director_Number</th>\n",
       "      <th>country_count</th>\n",
       "      <th>company_count</th>\n",
       "      <th>genre_count</th>\n",
       "      <th>budget_relative_2020</th>\n",
       "      <th>...</th>\n",
       "      <th>release_month_3</th>\n",
       "      <th>release_month_4</th>\n",
       "      <th>release_month_5</th>\n",
       "      <th>release_month_6</th>\n",
       "      <th>release_month_7</th>\n",
       "      <th>release_month_8</th>\n",
       "      <th>release_month_9</th>\n",
       "      <th>release_month_10</th>\n",
       "      <th>release_month_11</th>\n",
       "      <th>release_month_12</th>\n",
       "    </tr>\n",
       "  </thead>\n",
       "  <tbody>\n",
       "    <tr>\n",
       "      <th>count</th>\n",
       "      <td>2357.000000</td>\n",
       "      <td>2357.000000</td>\n",
       "      <td>2.357000e+03</td>\n",
       "      <td>2.357000e+03</td>\n",
       "      <td>2357.000000</td>\n",
       "      <td>2357.000000</td>\n",
       "      <td>2357.000000</td>\n",
       "      <td>2357.000000</td>\n",
       "      <td>2357.000000</td>\n",
       "      <td>2.357000e+03</td>\n",
       "      <td>...</td>\n",
       "      <td>2357.000000</td>\n",
       "      <td>2357.000000</td>\n",
       "      <td>2357.000000</td>\n",
       "      <td>2357.000000</td>\n",
       "      <td>2357.000000</td>\n",
       "      <td>2357.000000</td>\n",
       "      <td>2357.000000</td>\n",
       "      <td>2357.000000</td>\n",
       "      <td>2357.000000</td>\n",
       "      <td>2357.000000</td>\n",
       "    </tr>\n",
       "    <tr>\n",
       "      <th>mean</th>\n",
       "      <td>110.725923</td>\n",
       "      <td>25.948664</td>\n",
       "      <td>8.776330e+07</td>\n",
       "      <td>8.782806e+07</td>\n",
       "      <td>6.329230</td>\n",
       "      <td>1.097157</td>\n",
       "      <td>2.401358</td>\n",
       "      <td>3.255409</td>\n",
       "      <td>2.686042</td>\n",
       "      <td>3.061042e+07</td>\n",
       "      <td>...</td>\n",
       "      <td>0.078914</td>\n",
       "      <td>0.064489</td>\n",
       "      <td>0.079338</td>\n",
       "      <td>0.092066</td>\n",
       "      <td>0.082308</td>\n",
       "      <td>0.084005</td>\n",
       "      <td>0.118371</td>\n",
       "      <td>0.086126</td>\n",
       "      <td>0.084005</td>\n",
       "      <td>0.103097</td>\n",
       "    </tr>\n",
       "    <tr>\n",
       "      <th>std</th>\n",
       "      <td>21.347804</td>\n",
       "      <td>21.078828</td>\n",
       "      <td>8.336282e+07</td>\n",
       "      <td>1.089586e+08</td>\n",
       "      <td>0.721982</td>\n",
       "      <td>0.629209</td>\n",
       "      <td>0.800126</td>\n",
       "      <td>2.180155</td>\n",
       "      <td>1.138848</td>\n",
       "      <td>3.575135e+07</td>\n",
       "      <td>...</td>\n",
       "      <td>0.269662</td>\n",
       "      <td>0.245674</td>\n",
       "      <td>0.270323</td>\n",
       "      <td>0.289181</td>\n",
       "      <td>0.274892</td>\n",
       "      <td>0.277454</td>\n",
       "      <td>0.323115</td>\n",
       "      <td>0.280610</td>\n",
       "      <td>0.277454</td>\n",
       "      <td>0.304150</td>\n",
       "    </tr>\n",
       "    <tr>\n",
       "      <th>min</th>\n",
       "      <td>41.000000</td>\n",
       "      <td>0.000000</td>\n",
       "      <td>1.298981e+00</td>\n",
       "      <td>1.298981e+00</td>\n",
       "      <td>0.000000</td>\n",
       "      <td>1.000000</td>\n",
       "      <td>2.000000</td>\n",
       "      <td>1.000000</td>\n",
       "      <td>1.000000</td>\n",
       "      <td>5.273567e-02</td>\n",
       "      <td>...</td>\n",
       "      <td>0.000000</td>\n",
       "      <td>0.000000</td>\n",
       "      <td>0.000000</td>\n",
       "      <td>0.000000</td>\n",
       "      <td>0.000000</td>\n",
       "      <td>0.000000</td>\n",
       "      <td>0.000000</td>\n",
       "      <td>0.000000</td>\n",
       "      <td>0.000000</td>\n",
       "      <td>0.000000</td>\n",
       "    </tr>\n",
       "    <tr>\n",
       "      <th>25%</th>\n",
       "      <td>96.000000</td>\n",
       "      <td>14.000000</td>\n",
       "      <td>3.443245e+07</td>\n",
       "      <td>1.880480e+07</td>\n",
       "      <td>5.900000</td>\n",
       "      <td>1.000000</td>\n",
       "      <td>2.000000</td>\n",
       "      <td>2.000000</td>\n",
       "      <td>2.000000</td>\n",
       "      <td>7.419659e+06</td>\n",
       "      <td>...</td>\n",
       "      <td>0.000000</td>\n",
       "      <td>0.000000</td>\n",
       "      <td>0.000000</td>\n",
       "      <td>0.000000</td>\n",
       "      <td>0.000000</td>\n",
       "      <td>0.000000</td>\n",
       "      <td>0.000000</td>\n",
       "      <td>0.000000</td>\n",
       "      <td>0.000000</td>\n",
       "      <td>0.000000</td>\n",
       "    </tr>\n",
       "    <tr>\n",
       "      <th>50%</th>\n",
       "      <td>107.000000</td>\n",
       "      <td>19.000000</td>\n",
       "      <td>7.030808e+07</td>\n",
       "      <td>5.472695e+07</td>\n",
       "      <td>6.366667</td>\n",
       "      <td>1.000000</td>\n",
       "      <td>2.000000</td>\n",
       "      <td>3.000000</td>\n",
       "      <td>3.000000</td>\n",
       "      <td>1.959336e+07</td>\n",
       "      <td>...</td>\n",
       "      <td>0.000000</td>\n",
       "      <td>0.000000</td>\n",
       "      <td>0.000000</td>\n",
       "      <td>0.000000</td>\n",
       "      <td>0.000000</td>\n",
       "      <td>0.000000</td>\n",
       "      <td>0.000000</td>\n",
       "      <td>0.000000</td>\n",
       "      <td>0.000000</td>\n",
       "      <td>0.000000</td>\n",
       "    </tr>\n",
       "    <tr>\n",
       "      <th>75%</th>\n",
       "      <td>122.000000</td>\n",
       "      <td>31.000000</td>\n",
       "      <td>1.153104e+08</td>\n",
       "      <td>1.102630e+08</td>\n",
       "      <td>6.783333</td>\n",
       "      <td>1.000000</td>\n",
       "      <td>3.000000</td>\n",
       "      <td>4.000000</td>\n",
       "      <td>3.000000</td>\n",
       "      <td>3.887541e+07</td>\n",
       "      <td>...</td>\n",
       "      <td>0.000000</td>\n",
       "      <td>0.000000</td>\n",
       "      <td>0.000000</td>\n",
       "      <td>0.000000</td>\n",
       "      <td>0.000000</td>\n",
       "      <td>0.000000</td>\n",
       "      <td>0.000000</td>\n",
       "      <td>0.000000</td>\n",
       "      <td>0.000000</td>\n",
       "      <td>0.000000</td>\n",
       "    </tr>\n",
       "    <tr>\n",
       "      <th>max</th>\n",
       "      <td>338.000000</td>\n",
       "      <td>213.000000</td>\n",
       "      <td>8.495147e+08</td>\n",
       "      <td>1.125813e+09</td>\n",
       "      <td>10.000000</td>\n",
       "      <td>21.000000</td>\n",
       "      <td>13.000000</td>\n",
       "      <td>26.000000</td>\n",
       "      <td>7.000000</td>\n",
       "      <td>3.239769e+08</td>\n",
       "      <td>...</td>\n",
       "      <td>1.000000</td>\n",
       "      <td>1.000000</td>\n",
       "      <td>1.000000</td>\n",
       "      <td>1.000000</td>\n",
       "      <td>1.000000</td>\n",
       "      <td>1.000000</td>\n",
       "      <td>1.000000</td>\n",
       "      <td>1.000000</td>\n",
       "      <td>1.000000</td>\n",
       "      <td>1.000000</td>\n",
       "    </tr>\n",
       "  </tbody>\n",
       "</table>\n",
       "<p>8 rows × 134 columns</p>\n",
       "</div>"
      ],
      "text/plain": [
       "           runtime   cast_count  Top3cast_avg_rev  director_avg_revenue  \\\n",
       "count  2357.000000  2357.000000      2.357000e+03          2.357000e+03   \n",
       "mean    110.725923    25.948664      8.776330e+07          8.782806e+07   \n",
       "std      21.347804    21.078828      8.336282e+07          1.089586e+08   \n",
       "min      41.000000     0.000000      1.298981e+00          1.298981e+00   \n",
       "25%      96.000000    14.000000      3.443245e+07          1.880480e+07   \n",
       "50%     107.000000    19.000000      7.030808e+07          5.472695e+07   \n",
       "75%     122.000000    31.000000      1.153104e+08          1.102630e+08   \n",
       "max     338.000000   213.000000      8.495147e+08          1.125813e+09   \n",
       "\n",
       "       director_avg_vote  Director_Number  country_count  company_count  \\\n",
       "count        2357.000000      2357.000000    2357.000000    2357.000000   \n",
       "mean            6.329230         1.097157       2.401358       3.255409   \n",
       "std             0.721982         0.629209       0.800126       2.180155   \n",
       "min             0.000000         1.000000       2.000000       1.000000   \n",
       "25%             5.900000         1.000000       2.000000       2.000000   \n",
       "50%             6.366667         1.000000       2.000000       3.000000   \n",
       "75%             6.783333         1.000000       3.000000       4.000000   \n",
       "max            10.000000        21.000000      13.000000      26.000000   \n",
       "\n",
       "       genre_count  budget_relative_2020  ...  release_month_3  \\\n",
       "count  2357.000000          2.357000e+03  ...      2357.000000   \n",
       "mean      2.686042          3.061042e+07  ...         0.078914   \n",
       "std       1.138848          3.575135e+07  ...         0.269662   \n",
       "min       1.000000          5.273567e-02  ...         0.000000   \n",
       "25%       2.000000          7.419659e+06  ...         0.000000   \n",
       "50%       3.000000          1.959336e+07  ...         0.000000   \n",
       "75%       3.000000          3.887541e+07  ...         0.000000   \n",
       "max       7.000000          3.239769e+08  ...         1.000000   \n",
       "\n",
       "       release_month_4  release_month_5  release_month_6  release_month_7  \\\n",
       "count      2357.000000      2357.000000      2357.000000      2357.000000   \n",
       "mean          0.064489         0.079338         0.092066         0.082308   \n",
       "std           0.245674         0.270323         0.289181         0.274892   \n",
       "min           0.000000         0.000000         0.000000         0.000000   \n",
       "25%           0.000000         0.000000         0.000000         0.000000   \n",
       "50%           0.000000         0.000000         0.000000         0.000000   \n",
       "75%           0.000000         0.000000         0.000000         0.000000   \n",
       "max           1.000000         1.000000         1.000000         1.000000   \n",
       "\n",
       "       release_month_8  release_month_9  release_month_10  release_month_11  \\\n",
       "count      2357.000000      2357.000000       2357.000000       2357.000000   \n",
       "mean          0.084005         0.118371          0.086126          0.084005   \n",
       "std           0.277454         0.323115          0.280610          0.277454   \n",
       "min           0.000000         0.000000          0.000000          0.000000   \n",
       "25%           0.000000         0.000000          0.000000          0.000000   \n",
       "50%           0.000000         0.000000          0.000000          0.000000   \n",
       "75%           0.000000         0.000000          0.000000          0.000000   \n",
       "max           1.000000         1.000000          1.000000          1.000000   \n",
       "\n",
       "       release_month_12  \n",
       "count       2357.000000  \n",
       "mean           0.103097  \n",
       "std            0.304150  \n",
       "min            0.000000  \n",
       "25%            0.000000  \n",
       "50%            0.000000  \n",
       "75%            0.000000  \n",
       "max            1.000000  \n",
       "\n",
       "[8 rows x 134 columns]"
      ]
     },
     "execution_count": 234,
     "metadata": {},
     "output_type": "execute_result"
    }
   ],
   "source": [
    "X_train.describe()"
   ]
  },
  {
   "cell_type": "code",
   "execution_count": 235,
   "metadata": {},
   "outputs": [
    {
     "data": {
      "text/plain": [
       "(1011,)"
      ]
     },
     "execution_count": 235,
     "metadata": {},
     "output_type": "execute_result"
    }
   ],
   "source": [
    "y_test.shape"
   ]
  },
  {
   "cell_type": "code",
   "execution_count": 236,
   "metadata": {},
   "outputs": [],
   "source": [
    "from sklearn import preprocessing, metrics\n",
    "from sklearn.pipeline import Pipeline\n",
    "from sklearn.preprocessing import StandardScaler"
   ]
  },
  {
   "cell_type": "code",
   "execution_count": 237,
   "metadata": {},
   "outputs": [],
   "source": [
    "from sklearn.metrics import roc_curve\n",
    "from sklearn.metrics import roc_auc_score\n",
    "from sklearn.metrics import precision_recall_curve\n",
    "import matplotlib.pyplot as plt\n",
    "def resultoutput(beta,classifiername,X_test, y_test):\n",
    "    if hasattr(classifiername, \"decision_function\"): # decision fuction Take precedence over Predict proba for binary\n",
    "        y_score = classifiername.decision_function(X_test)\n",
    "    else:\n",
    "        y_score = classifiername.predict_proba(X_test1)[:, 1]\n",
    "    precision, recall, thresholds = precision_recall_curve(y_test, y_score)\n",
    "    f_score = (1+ beta**2)*precision*recall/(beta**2*(precision+recall)) # define f beta score\n",
    "    plt.plot(thresholds, f_score[:-1], \"b--\", label=\"Precision\") \n",
    "    plt.xlabel(\"Threshold\") \n",
    "    plt.show()\n",
    "    f1list = list(f_score)\n",
    "    index1 = f1list.index(max(f1list))\n",
    "    print('Threshold:',list(thresholds)[index1]) # select best thresholds\n",
    "    print('precision:',list(precision)[index1]) # calculate precision\n",
    "    print('recall:',list(recall)[index1]) # calculate recall\n",
    "    print('choosen Beta',beta)\n",
    "    print('f1-score:',max(f1list))# calculate f beta score\n",
    "    print('AUC under ROC',roc_auc_score(y_test, y_score))# calculate AUC\n",
    "    fpr, tpr, thresholds = roc_curve(y_test, y_score)\n",
    "    plt.plot(fpr, tpr, linewidth=2, label=None) \n",
    "    plt.plot([0, 1], [0, 1], 'k--') \n",
    "    plt.axis([0, 1, 0, 1])\n",
    "    plt.xlabel('False Positive Rate') \n",
    "    plt.ylabel('True Positive Rate')\n",
    "    plt.show()"
   ]
  },
  {
   "cell_type": "code",
   "execution_count": 238,
   "metadata": {},
   "outputs": [
    {
     "name": "stdout",
     "output_type": "stream",
     "text": [
      "C = : [2.7825594]\n"
     ]
    }
   ],
   "source": [
    "from sklearn.linear_model import LogisticRegressionCV\n",
    "\n",
    "classifier1 = Pipeline((\n",
    "(\"scaler\", StandardScaler()),\n",
    "(\"Logistics\", LogisticRegressionCV(cv = 10,random_state=0)), ))\n",
    "\n",
    "\n",
    "classifier1.fit(X_train, y_train)\n",
    "print('C = :',classifier1[\"Logistics\"].C_)"
   ]
  },
  {
   "cell_type": "code",
   "execution_count": 239,
   "metadata": {},
   "outputs": [
    {
     "data": {
      "image/png": "[encoded data removed]",
      "text/plain": [
       "<Figure size 432x288 with 1 Axes>"
      ]
     },
     "metadata": {
      "needs_background": "light"
     },
     "output_type": "display_data"
    },
    {
     "name": "stdout",
     "output_type": "stream",
     "text": [
      "Threshold: 90909334.89828499\n",
      "precision: 0.5202312138728323\n",
      "recall: 0.7068062827225131\n",
      "choosen Beta 1\n",
      "f1-score: 0.5993340732519423\n",
      "AUC under ROC 0.706269404606331\n"
     ]
    },
    {
     "data": {
      "image/png": "[encoded data removed]",
      "text/plain": [
       "<Figure size 432x288 with 1 Axes>"
      ]
     },
     "metadata": {
      "needs_background": "light"
     },
     "output_type": "display_data"
    }
   ],
   "source": [
    "resultoutput(beta = 1,classifiername = classifier1[\"Logistics\"] , X_test =X_test,y_test=y_test)"
   ]
  },
  {
   "cell_type": "code",
   "execution_count": 240,
   "metadata": {},
   "outputs": [
    {
     "data": {
      "image/png": "[encoded data removed]",
      "text/plain": [
       "<Figure size 432x288 with 1 Axes>"
      ]
     },
     "metadata": {
      "needs_background": "light"
     },
     "output_type": "display_data"
    },
    {
     "name": "stdout",
     "output_type": "stream",
     "text": [
      "Threshold: 0.0\n",
      "precision: 0.3778437190900099\n",
      "recall: 1.0\n",
      "choosen Beta 1\n",
      "f1-score: 0.5484565685570711\n",
      "AUC under ROC 0.5023368764514438\n"
     ]
    },
    {
     "data": {
      "image/png": "[encoded data removed]",
      "text/plain": [
       "<Figure size 432x288 with 1 Axes>"
      ]
     },
     "metadata": {
      "needs_background": "light"
     },
     "output_type": "display_data"
    }
   ],
   "source": [
    "from sklearn.naive_bayes import GaussianNB\n",
    "classifier2=Pipeline((\n",
    "(\"scaler\", StandardScaler()),\n",
    "(\"GaussianNB\", GaussianNB()), ))\n",
    "\n",
    "classifier2.fit(X_train1, y_train)\n",
    "resultoutput(beta = 1,classifiername = classifier2[\"GaussianNB\"] , X_test =X_test,y_test=y_test)"
   ]
  },
  {
   "cell_type": "code",
   "execution_count": 219,
   "metadata": {},
   "outputs": [
    {
     "data": {
      "image/png": "[encoded data removed]",
      "text/plain": [
       "<Figure size 432x288 with 1 Axes>"
      ]
     },
     "metadata": {
      "needs_background": "light"
     },
     "output_type": "display_data"
    },
    {
     "name": "stdout",
     "output_type": "stream",
     "text": [
      "Threshold: -0.9995000000000099\n",
      "precision: 0.3778437190900099\n",
      "recall: 1.0\n",
      "choosen Beta 1\n",
      "f1-score: 0.5484565685570711\n",
      "AUC under ROC 0.5\n"
     ]
    },
    {
     "data": {
      "image/png": "[encoded data removed]",
      "text/plain": [
       "<Figure size 432x288 with 1 Axes>"
      ]
     },
     "metadata": {
      "needs_background": "light"
     },
     "output_type": "display_data"
    }
   ],
   "source": [
    "from sklearn.svm import SVC\n",
    "rbf_kernel_svm_clf = Pipeline(( (\"scaler\", StandardScaler()),\n",
    "(\"svm_clf\", SVC(kernel=\"rbf\", gamma=5, C=0.001)) ))\n",
    "rbf_kernel_svm_clf.fit(X_train, y_train)\n",
    "resultoutput(beta = 1,classifiername = rbf_kernel_svm_clf[\"svm_clf\"],X_test =X_test,y_test=y_test)"
   ]
  },
  {
   "cell_type": "code",
   "execution_count": 220,
   "metadata": {},
   "outputs": [
    {
     "data": {
      "image/png": "[encoded data removed]",
      "text/plain": [
       "<Figure size 432x288 with 1 Axes>"
      ]
     },
     "metadata": {
      "needs_background": "light"
     },
     "output_type": "display_data"
    },
    {
     "name": "stdout",
     "output_type": "stream",
     "text": [
      "Threshold: -2.3591630165008702e+23\n",
      "precision: 0.3778437190900099\n",
      "recall: 1.0\n",
      "choosen Beta 1\n",
      "f1-score: 0.5484565685570711\n",
      "AUC under ROC 0.43071775193733924\n"
     ]
    },
    {
     "data": {
      "image/png": "[encoded data removed]",
      "text/plain": [
       "<Figure size 432x288 with 1 Axes>"
      ]
     },
     "metadata": {
      "needs_background": "light"
     },
     "output_type": "display_data"
    }
   ],
   "source": [
    "from sklearn.svm import SVC \n",
    "poly_kernel_svm_clf = Pipeline((\n",
    "            (\"scaler\", StandardScaler()),\n",
    "(\"svm_clf\", SVC(kernel=\"poly\", degree=3, coef0=1, C=5)) ))\n",
    "poly_kernel_svm_clf.fit(X_train, y_train)\n",
    "resultoutput(beta = 1,classifiername = poly_kernel_svm_clf[\"svm_clf\"],X_test =X_test,y_test=y_test)"
   ]
  },
  {
   "cell_type": "code",
   "execution_count": 221,
   "metadata": {},
   "outputs": [
    {
     "data": {
      "text/plain": [
       "BaggingClassifier(base_estimator=DecisionTreeClassifier(ccp_alpha=0.0,\n",
       "                                                        class_weight=None,\n",
       "                                                        criterion='gini',\n",
       "                                                        max_depth=None,\n",
       "                                                        max_features=None,\n",
       "                                                        max_leaf_nodes=None,\n",
       "                                                        min_impurity_decrease=0.0,\n",
       "                                                        min_impurity_split=None,\n",
       "                                                        min_samples_leaf=1,\n",
       "                                                        min_samples_split=2,\n",
       "                                                        min_weight_fraction_leaf=0.0,\n",
       "                                                        presort='deprecated',\n",
       "                                                        random_state=None,\n",
       "                                                        splitter='best'),\n",
       "                  bootstrap=True, bootstrap_features=False, max_features=1.0,\n",
       "                  max_samples=100, n_estimators=500, n_jobs=-1, oob_score=False,\n",
       "                  random_state=None, verbose=0, warm_start=False)"
      ]
     },
     "execution_count": 221,
     "metadata": {},
     "output_type": "execute_result"
    }
   ],
   "source": [
    "from sklearn.ensemble import BaggingClassifier \n",
    "from sklearn.tree import DecisionTreeClassifier\n",
    "bag_clf = BaggingClassifier(DecisionTreeClassifier(), n_estimators=500, max_samples=100, bootstrap=True, n_jobs=-1\n",
    ")\n",
    "bag_clf.fit(X_train, y_train) "
   ]
  },
  {
   "cell_type": "code",
   "execution_count": 222,
   "metadata": {},
   "outputs": [
    {
     "ename": "ValueError",
     "evalue": "Number of features of the model must match the input. Model n_features is 189 and input n_features is 135.",
     "output_type": "error",
     "traceback": [
      "\u001b[0;31m---------------------------------------------------------------------------\u001b[0m",
      "\u001b[0;31mValueError\u001b[0m                                Traceback (most recent call last)",
      "\u001b[0;32m<ipython-input-222-534316ba92eb>\u001b[0m in \u001b[0;36m<module>\u001b[0;34m\u001b[0m\n\u001b[0;32m----> 1\u001b[0;31m \u001b[0mresultoutput\u001b[0m\u001b[0;34m(\u001b[0m\u001b[0mbeta\u001b[0m \u001b[0;34m=\u001b[0m \u001b[0;36m1\u001b[0m\u001b[0;34m,\u001b[0m\u001b[0mclassifiername\u001b[0m \u001b[0;34m=\u001b[0m \u001b[0mbag_clf\u001b[0m\u001b[0;34m,\u001b[0m\u001b[0mX_test\u001b[0m \u001b[0;34m=\u001b[0m\u001b[0mX_test\u001b[0m\u001b[0;34m,\u001b[0m\u001b[0my_test\u001b[0m\u001b[0;34m=\u001b[0m\u001b[0my_test\u001b[0m\u001b[0;34m)\u001b[0m\u001b[0;34m\u001b[0m\u001b[0;34m\u001b[0m\u001b[0m\n\u001b[0m",
      "\u001b[0;32m<ipython-input-214-350c6f605f0e>\u001b[0m in \u001b[0;36mresultoutput\u001b[0;34m(beta, classifiername, X_test, y_test)\u001b[0m\n\u001b[1;32m      7\u001b[0m         \u001b[0my_score\u001b[0m \u001b[0;34m=\u001b[0m \u001b[0mclassifiername\u001b[0m\u001b[0;34m.\u001b[0m\u001b[0mdecision_function\u001b[0m\u001b[0;34m(\u001b[0m\u001b[0mX_test\u001b[0m\u001b[0;34m)\u001b[0m\u001b[0;34m\u001b[0m\u001b[0;34m\u001b[0m\u001b[0m\n\u001b[1;32m      8\u001b[0m     \u001b[0;32melse\u001b[0m\u001b[0;34m:\u001b[0m\u001b[0;34m\u001b[0m\u001b[0;34m\u001b[0m\u001b[0m\n\u001b[0;32m----> 9\u001b[0;31m         \u001b[0my_score\u001b[0m \u001b[0;34m=\u001b[0m \u001b[0mclassifiername\u001b[0m\u001b[0;34m.\u001b[0m\u001b[0mpredict_proba\u001b[0m\u001b[0;34m(\u001b[0m\u001b[0mX_test1\u001b[0m\u001b[0;34m)\u001b[0m\u001b[0;34m[\u001b[0m\u001b[0;34m:\u001b[0m\u001b[0;34m,\u001b[0m \u001b[0;36m1\u001b[0m\u001b[0;34m]\u001b[0m\u001b[0;34m\u001b[0m\u001b[0;34m\u001b[0m\u001b[0m\n\u001b[0m\u001b[1;32m     10\u001b[0m     \u001b[0mprecision\u001b[0m\u001b[0;34m,\u001b[0m \u001b[0mrecall\u001b[0m\u001b[0;34m,\u001b[0m \u001b[0mthresholds\u001b[0m \u001b[0;34m=\u001b[0m \u001b[0mprecision_recall_curve\u001b[0m\u001b[0;34m(\u001b[0m\u001b[0my_test\u001b[0m\u001b[0;34m,\u001b[0m \u001b[0my_score\u001b[0m\u001b[0;34m)\u001b[0m\u001b[0;34m\u001b[0m\u001b[0;34m\u001b[0m\u001b[0m\n\u001b[1;32m     11\u001b[0m     \u001b[0mf_score\u001b[0m \u001b[0;34m=\u001b[0m \u001b[0;34m(\u001b[0m\u001b[0;36m1\u001b[0m\u001b[0;34m+\u001b[0m \u001b[0mbeta\u001b[0m\u001b[0;34m**\u001b[0m\u001b[0;36m2\u001b[0m\u001b[0;34m)\u001b[0m\u001b[0;34m*\u001b[0m\u001b[0mprecision\u001b[0m\u001b[0;34m*\u001b[0m\u001b[0mrecall\u001b[0m\u001b[0;34m/\u001b[0m\u001b[0;34m(\u001b[0m\u001b[0mbeta\u001b[0m\u001b[0;34m**\u001b[0m\u001b[0;36m2\u001b[0m\u001b[0;34m*\u001b[0m\u001b[0;34m(\u001b[0m\u001b[0mprecision\u001b[0m\u001b[0;34m+\u001b[0m\u001b[0mrecall\u001b[0m\u001b[0;34m)\u001b[0m\u001b[0;34m)\u001b[0m \u001b[0;31m# define f beta score\u001b[0m\u001b[0;34m\u001b[0m\u001b[0;34m\u001b[0m\u001b[0m\n",
      "\u001b[0;32m~/opt/anaconda3/lib/python3.7/site-packages/sklearn/ensemble/_bagging.py\u001b[0m in \u001b[0;36mpredict_proba\u001b[0;34m(self, X)\u001b[0m\n\u001b[1;32m    705\u001b[0m                              \u001b[0;34m\"match the input. Model n_features is {0} and \"\u001b[0m\u001b[0;34m\u001b[0m\u001b[0;34m\u001b[0m\u001b[0m\n\u001b[1;32m    706\u001b[0m                              \u001b[0;34m\"input n_features is {1}.\"\u001b[0m\u001b[0;34m\u001b[0m\u001b[0;34m\u001b[0m\u001b[0m\n\u001b[0;32m--> 707\u001b[0;31m                              \"\".format(self.n_features_, X.shape[1]))\n\u001b[0m\u001b[1;32m    708\u001b[0m \u001b[0;34m\u001b[0m\u001b[0m\n\u001b[1;32m    709\u001b[0m         \u001b[0;31m# Parallel loop\u001b[0m\u001b[0;34m\u001b[0m\u001b[0;34m\u001b[0m\u001b[0;34m\u001b[0m\u001b[0m\n",
      "\u001b[0;31mValueError\u001b[0m: Number of features of the model must match the input. Model n_features is 189 and input n_features is 135."
     ]
    }
   ],
   "source": [
    "resultoutput(beta = 1,classifiername = bag_clf,X_test =X_test,y_test=y_test)"
   ]
  },
  {
   "cell_type": "code",
   "execution_count": 169,
   "metadata": {},
   "outputs": [
    {
     "data": {
      "text/plain": [
       "AdaBoostClassifier(algorithm='SAMME.R',\n",
       "                   base_estimator=DecisionTreeClassifier(ccp_alpha=0.0,\n",
       "                                                         class_weight=None,\n",
       "                                                         criterion='gini',\n",
       "                                                         max_depth=1,\n",
       "                                                         max_features=None,\n",
       "                                                         max_leaf_nodes=None,\n",
       "                                                         min_impurity_decrease=0.0,\n",
       "                                                         min_impurity_split=None,\n",
       "                                                         min_samples_leaf=1,\n",
       "                                                         min_samples_split=2,\n",
       "                                                         min_weight_fraction_leaf=0.0,\n",
       "                                                         presort='deprecated',\n",
       "                                                         random_state=None,\n",
       "                                                         splitter='best'),\n",
       "                   learning_rate=0.5, n_estimators=200, random_state=None)"
      ]
     },
     "execution_count": 169,
     "metadata": {},
     "output_type": "execute_result"
    }
   ],
   "source": [
    "from sklearn.ensemble import AdaBoostClassifier\n",
    "ada_clf = AdaBoostClassifier(DecisionTreeClassifier(max_depth=1), n_estimators=200, algorithm=\"SAMME.R\", learning_rate=0.5\n",
    ")\n",
    "ada_clf.fit(X_train, y_train)"
   ]
  },
  {
   "cell_type": "code",
   "execution_count": 170,
   "metadata": {},
   "outputs": [
    {
     "data": {
      "image/png": "[encoded data removed]",
      "text/plain": [
       "<Figure size 432x288 with 1 Axes>"
      ]
     },
     "metadata": {
      "needs_background": "light"
     },
     "output_type": "display_data"
    },
    {
     "name": "stdout",
     "output_type": "stream",
     "text": [
      "Threshold: -0.007430613114120148\n",
      "precision: 0.6569037656903766\n",
      "recall: 0.8219895287958116\n",
      "choosen Beta 1\n",
      "f1-score: 0.7302325581395349\n",
      "AUC under ROC 0.850756207393103\n"
     ]
    },
    {
     "data": {
      "image/png": "[encoded data removed]",
      "text/plain": [
       "<Figure size 432x288 with 1 Axes>"
      ]
     },
     "metadata": {
      "needs_background": "light"
     },
     "output_type": "display_data"
    }
   ],
   "source": [
    "resultoutput(beta = 1,classifiername = ada_clf,X_test =X_test,y_test=y_test)"
   ]
  },
  {
   "cell_type": "code",
   "execution_count": 171,
   "metadata": {},
   "outputs": [
    {
     "data": {
      "text/plain": [
       "0.7537091988130564"
      ]
     },
     "execution_count": 171,
     "metadata": {},
     "output_type": "execute_result"
    }
   ],
   "source": [
    "from sklearn.ensemble import RandomForestClassifier\n",
    "from sklearn.svm import LinearSVC\n",
    "from sklearn.linear_model import LogisticRegression\n",
    "from sklearn.preprocessing import StandardScaler\n",
    "from sklearn.pipeline import make_pipeline\n",
    "from sklearn.ensemble import StackingClassifier\n",
    "estimators = [\n",
    "    ('rf', RandomForestClassifier(n_estimators=10,random_state=42)),\n",
    "    ('svr', make_pipeline(StandardScaler(),\n",
    "                           LinearSVC(random_state=42)))\n",
    "]\n",
    "sta_clf = StackingClassifier(\n",
    "    estimators=estimators, final_estimator=LogisticRegression(),cv = 5\n",
    ")\n",
    "\n",
    "sta_clf.fit(X_train, y_train).score(X_test, y_test)"
   ]
  },
  {
   "cell_type": "code",
   "execution_count": 172,
   "metadata": {},
   "outputs": [
    {
     "data": {
      "image/png": "[encoded data removed]",
      "text/plain": [
       "<Figure size 432x288 with 1 Axes>"
      ]
     },
     "metadata": {
      "needs_background": "light"
     },
     "output_type": "display_data"
    },
    {
     "name": "stdout",
     "output_type": "stream",
     "text": [
      "Threshold: -0.3407881943142974\n",
      "precision: 0.6459770114942529\n",
      "recall: 0.7356020942408377\n",
      "choosen Beta 1\n",
      "f1-score: 0.6878824969400245\n",
      "AUC under ROC 0.8210864082437842\n"
     ]
    },
    {
     "data": {
      "image/png": "[encoded data removed]",
      "text/plain": [
       "<Figure size 432x288 with 1 Axes>"
      ]
     },
     "metadata": {
      "needs_background": "light"
     },
     "output_type": "display_data"
    }
   ],
   "source": [
    "resultoutput(beta = 1,classifiername = sta_clf,X_test =X_test,y_test=y_test)"
   ]
  },
  {
   "cell_type": "markdown",
   "metadata": {},
   "source": [
    "release date:\n",
    "if holiday?\n",
    "month?\n",
    "weekday?\n",
    "\n",
    "peer comparison:\n",
    "how many movie are release at the same time period with this movie:(before one week and after one week)?\n",
    "how many same genre is same with this movie last year?\n",
    "How many total income for same genre movie last year?\n",
    "total popular of one genre?\n",
    "\n",
    "\n",
    "genre:\n",
    "genre matrix, number of genres?\n",
    "product companies matrix, number of product companies?\n",
    "\n",
    "Keys? title?\n",
    "\n",
    "actor:\n",
    "\n",
    "\n",
    "some question:\n",
    "\n",
    "\"what's the scope of our dataset? focus on one country? USA\",\n",
    "\n",
    "\"does it contain all the movies in a certain period\"\n",
    "\n",
    "\"how long the period do we need?\"\n",
    "\n",
    "\n",
    "\n",
    "\n"
   ]
  },
  {
   "cell_type": "code",
   "execution_count": null,
   "metadata": {},
   "outputs": [],
   "source": [
    "from sklearn.metrics import mean_squared_error\n",
    "from sklearn.model_selection import train_test_split\n",
    "def plot_learning_curves(model, X, y):\n",
    "    X_train, X_val, y_train, y_val = train_test_split(X, y, test_size=0.3) train_errors, val_errors = [], []\n",
    "    for m in range(1, len(X_train)):\n",
    "        model.fit(X_train[:m], y_train[:m])\n",
    "        y_train_predict = model.predict(X_train[:m])\n",
    "        y_val_predict = model.predict(X_val) \n",
    "        train_errors.append(mean_squared_error(y_train_predict, y_train[:m])) \n",
    "        val_errors.append(mean_squared_error(y_val_predict, y_val))\n",
    "    plt.plot(np.sqrt(train_errors), \"r-+\", linewidth=2, label=\"train\") \n",
    "    plt.plot(np.sqrt(val_errors), \"b-\", linewidth=3, label=\"val\")"
   ]
  }
 ],
 "metadata": {
  "kernelspec": {
   "display_name": "Python 3",
   "language": "python",
   "name": "python3"
  },
  "language_info": {
   "codemirror_mode": {
    "name": "ipython",
    "version": 3
   },
   "file_extension": ".py",
   "mimetype": "text/x-python",
   "name": "python",
   "nbconvert_exporter": "python",
   "pygments_lexer": "ipython3",
   "version": "3.7.7"
  }
 },
 "nbformat": 4,
 "nbformat_minor": 4
}
