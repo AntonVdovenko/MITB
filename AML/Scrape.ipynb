{
 "cells": [
  {
   "cell_type": "code",
   "execution_count": 1,
   "metadata": {},
   "outputs": [],
   "source": [
    "from bs4 import BeautifulSoup as soup\n",
    "import requests\n",
    "import pandas as pd"
   ]
  },
  {
   "cell_type": "code",
   "execution_count": 14,
   "metadata": {},
   "outputs": [],
   "source": [
    "link = \"https://www.imdb.com/list/ls006444168/?st_dt=&mode=simple&page=2&sort=list_order,asc&ref_=ttls_vw_smphttps://www.imdb.com/list/ls006444168/?st_dt=&mode=simple&page=2&sort=list_order,asc&ref_=ttls_vw_smp\"\n",
    "page = requests.get(link).text\n",
    "parsed = soup(page,\"lxml\")"
   ]
  },
  {
   "cell_type": "code",
   "execution_count": 25,
   "metadata": {},
   "outputs": [],
   "source": [
    "parsed.links"
   ]
  },
  {
   "cell_type": "code",
   "execution_count": 12,
   "metadata": {},
   "outputs": [
    {
     "output_type": "execute_result",
     "data": {
      "text/plain": "<title>Movies based on novels and books - IMDb</title>"
     },
     "metadata": {},
     "execution_count": 12
    }
   ],
   "source": [
    "parsed.title"
   ]
  }
 ],
 "metadata": {
  "language_info": {
   "codemirror_mode": {
    "name": "ipython",
    "version": 3
   },
   "file_extension": ".py",
   "mimetype": "text/x-python",
   "name": "python",
   "nbconvert_exporter": "python",
   "pygments_lexer": "ipython3",
   "version": 3
  },
  "orig_nbformat": 2,
  "kernelspec": {
   "name": "python_defaultSpec_1594478228857",
   "display_name": "Python 3.7.6 64-bit ('User': virtualenv)"
  }
 },
 "nbformat": 4,
 "nbformat_minor": 2
}